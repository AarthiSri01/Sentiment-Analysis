{
  "nbformat": 4,
  "nbformat_minor": 0,
  "metadata": {
    "colab": {
      "provenance": []
    },
    "kernelspec": {
      "name": "python3",
      "display_name": "Python 3"
    },
    "language_info": {
      "name": "python"
    }
  },
  "cells": [
    {
      "cell_type": "code",
      "execution_count": null,
      "metadata": {
        "colab": {
          "base_uri": "https://localhost:8080/",
          "height": 802
        },
        "id": "22DWaww5U1Zc",
        "outputId": "7f95c19c-36e5-4d69-f3bd-00d1f72c2324"
      },
      "outputs": [
        {
          "output_type": "stream",
          "name": "stdout",
          "text": [
            "Epoch 1/5\n",
            "782/782 [==============================] - 60s 76ms/step - loss: 1.6500 - accuracy: 0.3918\n",
            "Epoch 2/5\n",
            "782/782 [==============================] - 60s 77ms/step - loss: 1.2961 - accuracy: 0.5358\n",
            "Epoch 3/5\n",
            "782/782 [==============================] - 58s 74ms/step - loss: 1.1494 - accuracy: 0.5951\n",
            "Epoch 4/5\n",
            "782/782 [==============================] - 61s 78ms/step - loss: 1.0578 - accuracy: 0.6286\n",
            "Epoch 5/5\n",
            "782/782 [==============================] - 61s 77ms/step - loss: 0.9908 - accuracy: 0.6542\n",
            "313/313 [==============================] - 4s 12ms/step - loss: 0.9859 - accuracy: 0.6556\n",
            "Loss: 0.9859116077423096\n",
            "Accuracy: 0.6556000113487244\n"
          ]
        },
        {
          "output_type": "display_data",
          "data": {
            "text/plain": [
              "<Figure size 640x480 with 1 Axes>"
            ],
            "image/png": "[encoded data removed]"
          },
          "metadata": {}
        },
        {
          "output_type": "stream",
          "name": "stdout",
          "text": [
            "1/1 [==============================] - 0s 92ms/step\n",
            "[[2.3863201e-04 3.3721033e-06 7.0711982e-04 1.4549862e-01 4.6232788e-04\n",
            "  8.4952116e-01 2.1757488e-04 3.2549885e-03 7.9864505e-05 1.6340571e-05]]\n",
            "Predicted class: 5\n"
          ]
        },
        {
          "output_type": "stream",
          "name": "stderr",
          "text": [
            "/usr/local/lib/python3.10/dist-packages/keras/src/engine/training.py:3103: UserWarning: You are saving your model as an HDF5 file via `model.save()`. This file format is considered legacy. We recommend using instead the native Keras format, e.g. `model.save('my_model.keras')`.\n",
            "  saving_api.save_model(\n"
          ]
        }
      ],
      "source": [
        "import numpy as np\n",
        "import tensorflow as tf\n",
        "from tensorflow.keras.models import Sequential\n",
        "from tensorflow.keras.layers import Conv2D, MaxPooling2D, Dense, Flatten\n",
        "import matplotlib.pyplot as plt\n",
        "import random\n",
        "\n",
        "# Load CIFAR-10 dataset\n",
        "(X_train, Y_train), (X_test, Y_test) = tf.keras.datasets.cifar10.load_data()\n",
        "\n",
        "# Data preprocessing\n",
        "X_train = X_train / 255.0\n",
        "X_test = X_test / 255.0\n",
        "\n",
        "# Define model architecture\n",
        "model = Sequential()\n",
        "model.add(Conv2D(32, (3, 3), activation='relu', input_shape=(32, 32, 3)))\n",
        "model.add(MaxPooling2D((2, 2)))\n",
        "model.add(Conv2D(64, (3, 3), activation='relu'))\n",
        "model.add(MaxPooling2D((2, 2)))\n",
        "model.add(Conv2D(64, (3, 3), activation='relu'))\n",
        "model.add(MaxPooling2D((2, 2)))\n",
        "model.add(Flatten())\n",
        "model.add(Dense(64, activation='relu'))\n",
        "model.add(Dense(10, activation='softmax'))  # 10 classes in CIFAR-10\n",
        "model.compile(loss='sparse_categorical_crossentropy', optimizer='adam', metrics=['accuracy'])\n",
        "\n",
        "# Train model\n",
        "model.fit(X_train, Y_train, epochs=5, batch_size=64)\n",
        "\n",
        "# Evaluate model\n",
        "loss, accuracy = model.evaluate(X_test, Y_test)\n",
        "print(f\"Loss: {loss}\")\n",
        "print(f\"Accuracy: {accuracy}\")\n",
        "\n",
        "# Visualize predictions\n",
        "id = random.randint(0, len(Y_test))\n",
        "plt.imshow(X_test[id, :]) #To show the image at the random number i.e. id chosen.\n",
        "plt.title(f\"True Class: {Y_test[id][0]}\")\n",
        "plt.show()\n",
        "\n",
        "y_pred = model.predict(X_test[id, :].reshape(1, 32, 32, 3))\n",
        "print(y_pred)\n",
        "y_pred_class = np.argmax(y_pred)\n",
        "print(f\"Predicted class: {y_pred_class}\")\n",
        "\n",
        "# Save model\n",
        "model.save('CIFAR10.h5')\n",
        "\n",
        "# Load saved model\n",
        "loaded_model = tf.keras.models.load_model('CIFAR10.h5')\n"
      ]
    },
    {
      "cell_type": "code",
      "source": [
        "#Output Description\n",
        "# 782--total no.of batches per epoch.\n",
        "#epoch--an iteration through entire data."
      ],
      "metadata": {
        "id": "SMtuTYo7Z7ET"
      },
      "execution_count": null,
      "outputs": []
    }
  ]
}